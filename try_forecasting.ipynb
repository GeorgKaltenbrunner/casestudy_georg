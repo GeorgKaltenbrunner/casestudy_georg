# import packages
import warnings
import pandas as pd
import numpy as np
import itertools
import statsmodels.api as sm
import scipy.stats as stats # for qq-plot
from scipy.stats import shapiro # Shapiro-Test
from scipy.stats import chisquare # Chisquare-Test
from scipy.stats import kstest # Kolmogorov-Smirnov 
import matplotlib.pyplot as plt  # for box plots, histogram, 
